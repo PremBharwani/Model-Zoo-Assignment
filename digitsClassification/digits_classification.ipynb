{
 "cells": [
  {
   "cell_type": "markdown",
   "metadata": {
    "id": "UdfEtFuCOt7L"
   },
   "source": [
    "# Basic Digits Classification \n",
    "\n",
    "#### I am making use of the mnist dataset"
   ]
  },
  {
   "cell_type": "code",
   "execution_count": 6,
   "metadata": {
    "id": "m5Nd5yyvQog7"
   },
   "outputs": [],
   "source": [
    "#importing tensorflow\n",
    "import tensorflow as tf\n",
    "\n",
    "#getting the mnist dataset \n",
    "mnist=tf.keras.datasets.mnist\n",
    "  \n",
    "#setting the train and test variables using the load_data() function\n",
    "(x_train , y_train) , (x_test , y_test) = mnist.load_data()\n",
    "#rescaling the pixel value to be between 0-1 & as a floating value . \n",
    "x_train , x_test = x_train/255.0 , x_test/255.0"
   ]
  },
  {
   "cell_type": "markdown",
   "metadata": {
    "id": "ynZCcbR4QrUu"
   },
   "source": [
    "#### Now we'll create our model"
   ]
  },
  {
   "cell_type": "code",
   "execution_count": 7,
   "metadata": {
    "id": "-34PvFVoQxGf"
   },
   "outputs": [],
   "source": [
    "model = tf.keras.models.Sequential([\n",
    "  tf.keras.layers.Flatten(input_shape=(28,28)),\n",
    "  tf.keras.layers.Dense(128,activation='relu'),\n",
    "  tf.keras.layers.Dropout(0.2),\n",
    "  tf.keras.layers.Dense(10,activation='softmax')\n",
    "])"
   ]
  },
  {
   "cell_type": "markdown",
   "metadata": {
    "id": "aWZr1UqDRdGH"
   },
   "source": [
    "#### Now lets compile our model using the Adam optimizer and a loss function"
   ]
  },
  {
   "cell_type": "code",
   "execution_count": 8,
   "metadata": {
    "id": "M1MSI31jRk0r"
   },
   "outputs": [],
   "source": [
    "model.compile(optimizer='adam',loss='sparse_categorical_crossentropy',metrics=['accuracy'])"
   ]
  },
  {
   "cell_type": "markdown",
   "metadata": {
    "id": "6xLtNQhtRzMb"
   },
   "source": [
    "#### We will now train the model using the training data that we have"
   ]
  },
  {
   "cell_type": "code",
   "execution_count": 9,
   "metadata": {
    "colab": {
     "base_uri": "https://localhost:8080/"
    },
    "id": "vGQOPBYCR2CC",
    "outputId": "c2d1e0c1-9ec4-473b-df43-56e629f2820c"
   },
   "outputs": [
    {
     "name": "stdout",
     "output_type": "stream",
     "text": [
      "Epoch 1/5\n",
      "1875/1875 [==============================] - 4s 2ms/step - loss: 0.4794 - accuracy: 0.8620\n",
      "Epoch 2/5\n",
      "1875/1875 [==============================] - 3s 2ms/step - loss: 0.1522 - accuracy: 0.9534\n",
      "Epoch 3/5\n",
      "1875/1875 [==============================] - 3s 2ms/step - loss: 0.1077 - accuracy: 0.9676\n",
      "Epoch 4/5\n",
      "1875/1875 [==============================] - 3s 2ms/step - loss: 0.0873 - accuracy: 0.9728\n",
      "Epoch 5/5\n",
      "1875/1875 [==============================] - 3s 2ms/step - loss: 0.0749 - accuracy: 0.9763\n"
     ]
    },
    {
     "data": {
      "text/plain": [
       "<tensorflow.python.keras.callbacks.History at 0x7f44b9763e90>"
      ]
     },
     "execution_count": 9,
     "metadata": {
      "tags": []
     },
     "output_type": "execute_result"
    }
   ],
   "source": [
    "model.fit(x_train,y_train,epochs=5)"
   ]
  },
  {
   "cell_type": "code",
   "execution_count": 10,
   "metadata": {
    "colab": {
     "base_uri": "https://localhost:8080/"
    },
    "id": "FHso3qJOSDzB",
    "outputId": "8e2a5aba-6ee2-4906-fd53-eca5daa09750"
   },
   "outputs": [
    {
     "name": "stdout",
     "output_type": "stream",
     "text": [
      "313/313 [==============================] - 0s 1ms/step - loss: 0.0769 - accuracy: 0.9768\n",
      "0.07690522819757462 0.9768000245094299\n"
     ]
    }
   ],
   "source": [
    "val_loss , val_acc = model.evaluate(x_test,y_test)\n",
    "print(val_loss,val_acc)"
   ]
  },
  {
   "cell_type": "markdown",
   "metadata": {
    "id": "rPVKghL4Y9ZO"
   },
   "source": [
    "#### Let us test how good does our model works , lets use matplotlib to plot the image that we will be prediciting , and then verify what our model predicts ."
   ]
  },
  {
   "cell_type": "code",
   "execution_count": 26,
   "metadata": {
    "colab": {
     "base_uri": "https://localhost:8080/",
     "height": 265
    },
    "id": "wzwEij5OSdcE",
    "outputId": "32afe959-e6fd-4b71-f494-9d8191eca50a"
   },
   "outputs": [
    {
     "data": {
      "image/png": "[encoded data removed]",
      "text/plain": [
       "<Figure size 432x288 with 1 Axes>"
      ]
     },
     "metadata": {
      "needs_background": "light",
      "tags": []
     },
     "output_type": "display_data"
    }
   ],
   "source": [
    "check_no=6        # this will be used to check \n",
    "\n",
    "import matplotlib.pyplot as plt\n",
    "plt.imshow(x_test[check_no],cmap=plt.cm.binary)\n",
    "plt.show()"
   ]
  },
  {
   "cell_type": "code",
   "execution_count": 29,
   "metadata": {
    "id": "wxgbTfD3SxMI"
   },
   "outputs": [],
   "source": [
    "predictions  = model.predict([x_test])"
   ]
  },
  {
   "cell_type": "code",
   "execution_count": null,
   "metadata": {
    "colab": {
     "base_uri": "https://localhost:8080/"
    },
    "id": "lI_nDs8gT47a",
    "outputId": "846c52d4-9cbf-4a91-8664-7544fcab8510"
   },
   "outputs": [],
   "source": [
    "import numpy as np\n",
    "print(np.argmax(predictions[check_no]))   # since predictions have the probabilities all possible cases, we have to choose the maximum one"
   ]
  },
  {
   "cell_type": "markdown",
   "metadata": {},
   "source": [
    "### Thats it . We've sucessfully made this model."
   ]
  }
 ],
 "metadata": {
  "colab": {
   "name": "DigitsClassification",
   "provenance": [],
   "toc_visible": true
  },
  "kernelspec": {
   "display_name": "Python 3",
   "language": "python",
   "name": "python3"
  },
  "language_info": {
   "codemirror_mode": {
    "name": "ipython",
    "version": 3
   },
   "file_extension": ".py",
   "mimetype": "text/x-python",
   "name": "python",
   "nbconvert_exporter": "python",
   "pygments_lexer": "ipython3",
   "version": "3.8.5"
  }
 },
 "nbformat": 4,
 "nbformat_minor": 1
}
